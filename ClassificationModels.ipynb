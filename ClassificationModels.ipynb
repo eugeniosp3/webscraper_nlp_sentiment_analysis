{
 "cells": [
  {
   "cell_type": "markdown",
   "metadata": {},
   "source": [
    "try different samples of data for the train test split settings "
   ]
  },
  {
   "cell_type": "code",
   "execution_count": null,
   "metadata": {},
   "outputs": [],
   "source": [
    "import pandas as pd\n",
    "import numpy as np\n",
    "import time\n",
    "import matplotlib.pyplot as plt\n",
    "import seaborn as sns\n",
    "\n",
    "# metrics\n",
    "from sklearn.model_selection import train_test_split, KFold, cross_val_score\n",
    "from sklearn.metrics import accuracy_score, f1_score, precision_score, recall_score\n",
    "from sklearn.metrics import classification_report, confusion_matrix\n",
    "\n",
    "# transformations\n",
    "from sklearn.feature_selection import RFE\n",
    "from sklearn.preprocessing import MinMaxScaler\n",
    "\n",
    "# models\n",
    "from sklearn.neighbors import KNeighborsClassifier\n",
    "from sklearn.ensemble import RandomForestClassifier\n",
    "from sklearn.tree import DecisionTreeClassifier\n",
    "from sklearn.svm import SVC\n",
    "from sklearn.neural_network import MLPClassifier\n",
    "from sklearn.multiclass import OneVsRestClassifier\n",
    "from xgboost import XGBClassifier\n",
    "from sklearn.ensemble import GradientBoostingClassifier"
   ]
  },
  {
   "cell_type": "code",
   "execution_count": null,
   "metadata": {},
   "outputs": [],
   "source": [
    "score_dict = {}\n",
    "def score_me(mn, mc, pn, y_test):\n",
    "    \"\"\" \n",
    "    mn : the model name you want to have (ie. mn='Linear Regression')\n",
    "    mc : the variable name for the model (ie. mc=linear_regression)\n",
    "    pn : predictor variable name (ie. pn=y_pred)\n",
    "    \"\"\"\n",
    "    global model_name\n",
    "    model_name = {}\n",
    "    model_name['Accuracy Score'] = round(accuracy_score(y_test, pn), 4)\n",
    "    model_name['Micro F1 Score'] = round(f1_score(y_test, pn, average='micro'), 4)\n",
    "    model_name['Macro F1 Score'] = round(f1_score(y_test, pn, average='macro'), 4)\n",
    "    model_name['Weighted F1 Score'] = round(f1_score(y_test, pn, average='weighted'), 4)\n",
    "    model_name['Micro Precision Score'] = round(precision_score(y_test, pn, average='micro'), 4)\n",
    "    model_name['Macro Precision Score'] = round(precision_score(y_test, pn, average='macro'), 4)\n",
    "    model_name['Weighted Precision Score'] = round(precision_score(y_test, pn, average='weighted'), 4)\n",
    "    model_name['Micro Recall Score'] = round(recall_score(y_test, pn, average='micro'), 4)\n",
    "    model_name['Macro Recall Score'] = round(recall_score(y_test, pn, average='macro'), 4)\n",
    "    model_name['Weighted Recall Score'] = round(recall_score(y_test, pn, average='weighted'), 4)\n",
    "    score_dict[mn] = model_name \n",
    "    print(classification_report(y_test, pn), '\\n', '\\n')\n",
    "    \n",
    "    plt.figure(figsize = (20, 8))\n",
    "    sns.heatmap(pd.DataFrame(confusion_matrix(y_test, pn)), annot=True, fmt='g', annot_kws={\"size\": 15})\n",
    "    plt.title(str(mn) +' Confusion Matrix')\n",
    "    plt.ylabel('Actual Label')\n",
    "    plt.xlabel('Predicted Labels')\n",
    "    plt.tight_layout()\n",
    "\n",
    "    plt.show()\n"
   ]
  },
  {
   "cell_type": "code",
   "execution_count": null,
   "metadata": {
    "scrolled": true
   },
   "outputs": [],
   "source": [
    "\n",
    "def Decision_Tree(X_train, y_train, X_test, y_test):\n",
    "    global dctc\n",
    "    dctc_start = time.time()\n",
    "    dctc= DecisionTreeClassifier(random_state = 42).fit(X_train, y_train)\n",
    "    dctc_predictions = dctc.predict(X_test)\n",
    "    score_me('Decision Tree Classifier', dctc, dctc_predictions, y_test)\n",
    "\n",
    "    dctc_end = time.time()\n",
    "    compute_time_dctc = dctc_end - dctc_start\n",
    "    model_name['Run Time(secs)'] = round(compute_time_dctc, 3)\n",
    "    print('Scores:', score_dict['Decision Tree Classifier'])\n"
   ]
  },
  {
   "cell_type": "code",
   "execution_count": null,
   "metadata": {},
   "outputs": [],
   "source": [
    "def RF_Feature_Importance(X_train, y_train, X_test, y_test):    \n",
    "    rfc_feature_importances = pd.DataFrame(rfc.feature_importances_, index = X_train.columns,\n",
    "                                         columns = ['Importance']).sort_values('Importance', ascending = False)\n",
    "    plt.figure(figsize = (20, 8))\n",
    "    sns.barplot(x = 'Importance', y = rfc_feature_importances.index,\n",
    "            data = rfc_feature_importances)\n",
    "    plt.title('Random Forest Classifier Feature Importances', fontsize = 14)\n",
    "    plt.xlabel('Importance Value', fontsize = 12)\n",
    "    plt.show()\n",
    "    \n",
    "    \n",
    "\n",
    "def Feature_Optimization_RF(X_train, y_train, X_test, y_test ):\n",
    "    results = pd.DataFrame(columns = ['Number of Features', 'Accuracy Score','Micro F1 Score','Macro F1 Score', 'Weighted F1 Score', 'Micro Precision Score', 'Macro Precision Score', \n",
    "                                     'Weighted Precision Score', 'Micro Recall Score', 'Macro Recall Score', 'Weighted Recall Score'])\n",
    "\n",
    "\n",
    "    for index in np.arange(len(X_train.columns)):\n",
    "        sel = RFE(RandomForestClassifier(random_state = 42, n_jobs = -1), n_features_to_select = index + 1)\n",
    "        sel.fit(X_train, y_train)\n",
    "        x_train_rfe = sel.transform(X_train)\n",
    "        x_test_rfe = sel.transform(X_test)\n",
    "        model = RandomForestClassifier(n_estimators = 50, random_state = 42, n_jobs = -1)\n",
    "        model.fit(x_train_rfe, y_train)\n",
    "        results.loc[index] = [index + 1,\n",
    "                              round(accuracy_score(y_test, model.predict(x_test_rfe)), 4),\n",
    "                              round(f1_score(y_test, model.predict(x_test_rfe), average='micro'), 4),\n",
    "                              round(f1_score(y_test, model.predict(x_test_rfe), average='macro'), 4),\n",
    "                              round(f1_score(y_test, model.predict(x_test_rfe), average='weighted'), 4),\n",
    "                              round(precision_score(y_test, model.predict(x_test_rfe), average='micro'), 4),\n",
    "                              round(precision_score(y_test, model.predict(x_test_rfe), average='macro'), 4),\n",
    "                              round(precision_score(y_test, model.predict(x_test_rfe), average='weighted'), 4),\n",
    "                              round(recall_score(y_test, model.predict(x_test_rfe), average='micro'), 4),\n",
    "                              round(recall_score(y_test, model.predict(x_test_rfe), average='macro'), 4),\n",
    "                              round(recall_score(y_test, model.predict(x_test_rfe), average='weighted'), 4)]\n",
    "        return results \n",
    "\n",
    "\n"
   ]
  },
  {
   "cell_type": "code",
   "execution_count": null,
   "metadata": {},
   "outputs": [],
   "source": [
    "\n",
    "def Random_Forest(X_train, y_train, X_test, y_test):\n",
    "    global rfc\n",
    "    '''returns rf_results dataframe which must be saved '''\n",
    "    rfc_start = time.time()\n",
    "    rfc = RandomForestClassifier(n_estimators=50, random_state = 42, n_jobs = -1).fit(X_train, y_train)\n",
    "    rfc_predictions = rfc.predict(X_test)\n",
    "    score_me('Random Forest Classifier', rfc, rfc_predictions, y_test)\n",
    "\n",
    "    rfc_end = time.time()\n",
    "    compute_time_rfc = rfc_end - rfc_start\n",
    "    model_name['Run Time(secs)'] = round(compute_time_rfc, 3)\n",
    "    print('Scores:', score_dict['Random Forest Classifier'])\n",
    "    "
   ]
  },
  {
   "cell_type": "code",
   "execution_count": null,
   "metadata": {},
   "outputs": [],
   "source": [
    "def Gradient_Boosting_Classifier(X_train, y_train, X_test, y_test):\n",
    "    global gbc\n",
    "    gbc_start = time.time()\n",
    "\n",
    "\n",
    "    gbc = GradientBoostingClassifier(n_estimators=10, random_state=42).fit(X_train, y_train)\n",
    "\n",
    "    gbc_predictions = gbc.predict(X_test)\n",
    "    score_me('Gradient Boosting Classifier', gbc, gbc_predictions, y_test)\n",
    "\n",
    "    gbc_end = time.time()\n",
    "    compute_time_gbc = gbc_end - gbc_start\n",
    "    model_name['Run Time(secs)'] = round(compute_time_gbc, 3)\n",
    "    print('Scores:', score_dict['Gradient Boosting Classifier'])\n"
   ]
  },
  {
   "cell_type": "code",
   "execution_count": null,
   "metadata": {},
   "outputs": [],
   "source": [
    "def XG_Boost_Classifier(X_train, y_train, X_test, y_test):\n",
    "    global xgc\n",
    "    xgc_start = time.time()\n",
    "\n",
    "\n",
    "    xgc = OneVsRestClassifier(XGBClassifier()).fit(X_train, y_train)\n",
    "\n",
    "    xgc_predictions = xgc.predict(X_test)\n",
    "    score_me('XG-Boost Classifier', xgc, xgc_predictions, y_test)\n",
    "\n",
    "    xgc_end = time.time()\n",
    "    compute_time_xgc = xgc_end - xgc_start\n",
    "    model_name['Run Time(secs)'] = round(compute_time_xgc, 3)\n",
    "    print('Scores:', score_dict['XG-Boost Classifier'])\n"
   ]
  },
  {
   "cell_type": "code",
   "execution_count": null,
   "metadata": {},
   "outputs": [],
   "source": [
    "def KNN_Classifier(X_train, y_train, X_test, y_test):\n",
    "    global knnc\n",
    "    knn_start = time.time()\n",
    "    \n",
    "    knnc = KNeighborsClassifier(n_neighbors=7, n_jobs = -1).fit(X_train, y_train)\n",
    "    knn_predictions = knnc.predict(X_test)\n",
    "    score_me('K-Neighbors Classifier', knnc, knn_predictions, y_test)\n",
    "\n",
    "    knn_end = time.time()\n",
    "    compute_time_knn = knn_end - knn_start\n",
    "    model_name['Run Time(secs)'] = round(compute_time_knn, 3)\n",
    "    print('Scores:', score_dict['K-Neighbors Classifier'])\n"
   ]
  },
  {
   "cell_type": "code",
   "execution_count": null,
   "metadata": {},
   "outputs": [],
   "source": [
    "def train_models(df, target_column, RF_O=False):\n",
    "    X_train, X_test, y_train, y_test = train_test_split(df, target_column, random_state=42, test_size=0.25)\n",
    "    \n",
    "    Decision_Tree(X_train, y_train, X_test, y_test)\n",
    "    \n",
    "    Gradient_Boosting_Classifier(X_train, y_train, X_test, y_test)\n",
    "    \n",
    "    XG_Boost_Classifier(X_train, y_train, X_test, y_test)\n",
    "    \n",
    "    KNN_Classifier(X_train, y_train, X_test, y_test)\n",
    "    Random_Forest(X_train, y_train, X_test, y_test)\n",
    "    \n",
    "    return pd.DataFrame.from_dict(score_dict)\n",
    "\n",
    "    if RF_O == True:\n",
    "    # shows a bar chart of feature importance\n",
    "        RF_Feature_Importance(X_train, y_train, X_test, y_test )\n",
    "    # returns a dataframe of how features affect the performance of the RF model \n",
    "        results = Feature_Optimization_RF(X_train, y_train, X_test, y_test )\n",
    "        return results \n",
    "    "
   ]
  },
  {
   "cell_type": "code",
   "execution_count": null,
   "metadata": {},
   "outputs": [],
   "source": [
    "score_dict_test_df = {}\n",
    "def score_me_test_df(mn_t, mc_t, pn_t, y_test):\n",
    "    \"\"\" \n",
    "    mn : the model name you want to have (ie. mn='Linear Regression')\n",
    "    mc : the variable name for the model (ie. mc=linear_regression)\n",
    "    pn : predictor variable name (ie. pn=y_pred)\n",
    "    \"\"\"\n",
    "    global model_name_ts\n",
    "    model_name = {}\n",
    "    model_name['Accuracy Score'] = round(accuracy_score(y_test, pn_t), 4)\n",
    "    model_name['Micro F1 Score'] = round(f1_score(y_test, pn_t, average='micro'), 4)\n",
    "    model_name['Macro F1 Score'] = round(f1_score(y_test, pn_t, average='macro'), 4)\n",
    "    model_name['Weighted F1 Score'] = round(f1_score(y_test, pn_t, average='weighted'), 4)\n",
    "    model_name['Micro Precision Score'] = round(precision_score(y_test, pn_t, average='micro'), 4)\n",
    "    model_name['Macro Precision Score'] = round(precision_score(y_test, pn_t, average='macro'), 4)\n",
    "    model_name['Weighted Precision Score'] = round(precision_score(y_test, pn_t, average='weighted'), 4)\n",
    "    model_name['Micro Recall Score'] = round(recall_score(y_test, pn_t, average='micro'), 4)\n",
    "    model_name['Macro Recall Score'] = round(recall_score(y_test, pn_t, average='macro'), 4)\n",
    "    model_name['Weighted Recall Score'] = round(recall_score(y_test, pn_t, average='weighted'), 4)\n",
    "    score_dict_test_df[mn_t] = model_name \n",
    "    print(classification_report(y_test, pn_t), '\\n', '\\n')\n",
    "    \n",
    "    plt.figure(figsize = (20, 8))\n",
    "    sns.heatmap(pd.DataFrame(confusion_matrix(y_test, pn_t)), annot=True, fmt='g', annot_kws={\"size\": 15})\n",
    "    plt.title(str(mn_t) +' Confusion Matrix')\n",
    "    plt.ylabel('Actual Label')\n",
    "    plt.xlabel('Predicted Labels')\n",
    "    plt.tight_layout()\n",
    "\n",
    "    plt.show()\n"
   ]
  },
  {
   "cell_type": "code",
   "execution_count": null,
   "metadata": {},
   "outputs": [],
   "source": [
    "def run_test_df(the_target_column, the_test_data):\n",
    "    target_column = the_target_column\n",
    "    set_to_test = the_test_data\n",
    "    model_names = {'Decision Tree Classifier':[dctc, dctc.predict(set_to_test)],'Random Forest Classifier':[rfc, rfc.predict(set_to_test)],\n",
    "                   'Gradient Boosting Classifier':[gbc, gbc.predict(set_to_test)],'XG-Boost Classifier':[xgc, xgc.predict(set_to_test)],\n",
    "                   'K-Neighbors Classifier':[knnc, knnc.predict(set_to_test)]}\n",
    "    for models in model_names:\n",
    "        score_me_test_df(mn_t=models, mc_t=model_names[models][0], pn_t=model_names[models][1], y_test=the_target_column)\n",
    "\n",
    "    model_results_ts = pd.DataFrame.from_dict(score_dict_test_df)\n",
    "    return model_results_ts\n"
   ]
  },
  {
   "cell_type": "markdown",
   "metadata": {},
   "source": []
  },
  {
   "cell_type": "code",
   "execution_count": null,
   "metadata": {},
   "outputs": [],
   "source": [
    "bd = pd.read_csv('balanced_dataframe_b.csv')\n",
    "bd.info()\n",
    "classifying_set = bd[['ARRIVAL_MONTH',\n",
    "       'ARRIVAL_DAY', 'ARRIVAL_HOUR', 'ARRIVAL_MINUTE',\n",
    "       'INCIDENT_MONTH',\n",
    "       'INCIDENT_DAY', 'INCIDENT_HOUR', 'INCIDENT_MINUTE',\n",
    "       'PROPERTY_USE_LABELS', 'ZIP_CODE_LABELS', 'INCIDENT_TYPE_DESC_LABELS']].astype('int16')\n",
    "\n",
    "\n"
   ]
  },
  {
   "cell_type": "code",
   "execution_count": null,
   "metadata": {},
   "outputs": [],
   "source": [
    "train_models(classifying_set, target_column_fd, False)"
   ]
  },
  {
   "cell_type": "code",
   "execution_count": null,
   "metadata": {},
   "outputs": [],
   "source": [
    "print(model_results)"
   ]
  },
  {
   "cell_type": "code",
   "execution_count": null,
   "metadata": {},
   "outputs": [],
   "source": [
    "\n",
    "target_column_fd = bd['TARGET_CLASSES'].astype('int16')\n",
    "\n",
    "test_set = pd.read_csv('test_model.csv')\n",
    "test_set.info()\n",
    "run_X_test = classifying_set\n",
    "target_for_test = target_column_fd\n",
    "fire_dept_test_results = run_test_df(target_for_test, run_X_test)\n"
   ]
  },
  {
   "cell_type": "code",
   "execution_count": null,
   "metadata": {},
   "outputs": [],
   "source": [
    "fire_dept_test_results"
   ]
  },
  {
   "cell_type": "code",
   "execution_count": null,
   "metadata": {},
   "outputs": [],
   "source": [
    "small = pd.read_csv('small_df_s.csv')\n",
    "small_features = small.loc[:, small.columns != 'HIGHEST_LEVEL_DESC']\n",
    "small_target = small.loc[:, 'HIGHEST_LEVEL_DESC']\n",
    "small_results = train_models(small_features, small_target, False)\n",
    "print(small_results)"
   ]
  },
  {
   "cell_type": "code",
   "execution_count": null,
   "metadata": {},
   "outputs": [],
   "source": [
    "medium = pd.read_csv('medium_df_s.csv')\n",
    "medium_features = medium.loc[:, medium.columns != 'HIGHEST_LEVEL_DESC']\n",
    "medium_target = medium.loc[: 'HIGHEST_LEVEL_DESC']\n",
    "medium_results = train_models(medium_features, medium_target, False)\n",
    "print(medium_results)\n"
   ]
  },
  {
   "cell_type": "code",
   "execution_count": null,
   "metadata": {},
   "outputs": [],
   "source": [
    "large = pd.read_csv('large_df_s.csv')\n",
    "large_features = large.loc[:, large.columns != 'HIGHEST_LEVEL_DESC']\n",
    "large_target = large.loc[: 'HIGHEST_LEVEL_DESC']\n",
    "large_results = train_models(large_features, large_target, False)\n",
    "print(large_results)\n"
   ]
  },
  {
   "cell_type": "code",
   "execution_count": null,
   "metadata": {},
   "outputs": [],
   "source": []
  },
  {
   "cell_type": "code",
   "execution_count": null,
   "metadata": {},
   "outputs": [],
   "source": []
  }
 ],
 "metadata": {
  "kernelspec": {
   "display_name": "Python 3",
   "language": "python",
   "name": "python3"
  },
  "language_info": {
   "codemirror_mode": {
    "name": "ipython",
    "version": 3
   },
   "file_extension": ".py",
   "mimetype": "text/x-python",
   "name": "python",
   "nbconvert_exporter": "python",
   "pygments_lexer": "ipython3",
   "version": "3.8.5"
  }
 },
 "nbformat": 4,
 "nbformat_minor": 4
}
